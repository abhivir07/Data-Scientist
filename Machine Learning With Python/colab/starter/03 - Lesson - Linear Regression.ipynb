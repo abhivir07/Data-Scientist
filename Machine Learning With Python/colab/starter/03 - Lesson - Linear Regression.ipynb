{
 "cells": [
  {
   "cell_type": "markdown",
   "id": "996ccf83",
   "metadata": {},
   "source": [
    "<a \n",
    " href=\"https://colab.research.google.com/github/LearnPythonWithRune/MachineLearningWithPython/blob/main/colab/starter/03 - Lesson - Linear Regression.ipynb\"\n",
    " target=\"_parent\">\n",
    "<img \n",
    " src=\"https://colab.research.google.com/assets/colab-badge.svg\"\n",
    "alt=\"Open In Colab\"/>\n",
    "</a>"
   ]
  },
  {
   "cell_type": "markdown",
   "id": "45aef260",
   "metadata": {},
   "source": [
    "# Linear Regression\n",
    "### Goal of Lesson\n",
    "- Learn about linear regression\n",
    "- Understand difference from discrete classifier\n",
    "- Understand it is supervised learning task\n",
    "- Get insight into how similar a linear classifier is to discrete classifier\n",
    "- Hands-on experience with linear regression\n",
    "\n",
    "### What is Linear Regression?\n",
    "- Supervised learning task of learning a mapping from input point to a continuous value"
   ]
  },
  {
   "cell_type": "markdown",
   "id": "2f352a49",
   "metadata": {},
   "source": [
    "### Linear Classifier\n",
    "- $h(x_1, x_2) = w_0 + w_1 x_1 + w_2 x_2$"
   ]
  },
  {
   "cell_type": "markdown",
   "id": "92c29408",
   "metadata": {},
   "source": [
    "### Differently\n",
    "- Weight vector $w: (w_0, w_1, w_2)$\n",
    "- Input vector $x: (1, x_1, x_2)$\n",
    "- Function ([dot-product](https://en.wikipedia.org/wiki/Dot_product)): $x\\cdot w: w_0 + w_1 x_1 + w_2 x_2$\n",
    "- $h_w(x) = w\\cdot x$"
   ]
  },
  {
   "cell_type": "markdown",
   "id": "3d057f9f",
   "metadata": {},
   "source": [
    "### In general\n",
    "- Weight vector $w: (w_0, w_1, \\dots, w_n)$\n",
    "- Input vector $x: (1, x_1, \\dots, x_n)$\n",
    "- Function ([dot-product](https://en.wikipedia.org/wiki/Dot_product)): $x\\cdot w: w_0 + w_1 x_1 + \\cdots + w_n x_n$\n",
    "- $h_w(x) = w\\cdot x$"
   ]
  },
  {
   "cell_type": "markdown",
   "id": "67b26214",
   "metadata": {},
   "source": [
    "### Measure accuracy\n",
    "- Before we measured classification (right or wrong)\n",
    "- Now we measure discrete values\n",
    "- We will use r-squared ([wiki](https://en.wikipedia.org/wiki/Coefficient_of_determination))"
   ]
  },
  {
   "cell_type": "markdown",
   "id": "cbc79924",
   "metadata": {},
   "source": [
    "> #### Programming Notes:\n",
    "> - Libraries used\n",
    ">     - [**pandas**](https://pandas.pydata.org) - a data analysis and manipulation tool\n",
    ">     - [**numpy**](http://numpy.org) - scientific computing with Python ([Lecture on NumPy](https://youtu.be/BpzpU8_j0-c))\n",
    ">     - [**matplotlib**](http://matplotlib.org) - visualization with Python ([Lecture on **visualization**](https://youtu.be/htIh8YHh4xs))\n",
    ">     - [**sklearn**](https://scikit-learn.org/stable/) - tools for predictive data analysis\n",
    "> - Functionality and concepts used\n",
    ">     - [**CSV**](https://en.wikipedia.org/wiki/Comma-separated_values) file ([Lecture on CSV](https://youtu.be/LEyojSOg4EI))\n",
    ">     - [**read_csv()**](https://pandas.pydata.org/pandas-docs/stable/reference/api/pandas.read_csv.html) read a comma-separated values (csv) file into **pandas** DataFrame.\n",
    ">     - [**isnull()**](https://pandas.pydata.org/pandas-docs/stable/reference/api/pandas.DataFrame.isnull.html) Detect missing values\n",
    ">     - [**sum()**](https://pandas.pydata.org/docs/reference/api/pandas.DataFrame.sum.html) Return the sum of the values over the requested axis (can sum number of True-statements).\n",
    ">     - [**corr()**](https://pandas.pydata.org/docs/reference/api/pandas.DataFrame.corr.html) compute pairwise correlation of columns\n",
    ">     - [**train_test_split**](https://scikit-learn.org/stable/modules/generated/sklearn.model_selection.train_test_split.html) from [**sklearn**](https://scikit-learn.org/stable/)\n",
    ">     - [**LinearRegression**](https://scikit-learn.org/stable/modules/generated/sklearn.linear_model.LinearRegression.html) to train (fit) the model\n",
    ">     - [**metrics.r2_score**](https://scikit-learn.org/stable/modules/generated/sklearn.metrics.r2_score.html) to get the accuracy of the predictions"
   ]
  },
  {
   "cell_type": "code",
   "execution_count": null,
   "id": "261cc7e1",
   "metadata": {},
   "outputs": [],
   "source": []
  },
  {
   "cell_type": "code",
   "execution_count": null,
   "id": "c8df4519",
   "metadata": {},
   "outputs": [],
   "source": []
  },
  {
   "cell_type": "code",
   "execution_count": null,
   "id": "79eea353",
   "metadata": {},
   "outputs": [],
   "source": []
  },
  {
   "cell_type": "code",
   "execution_count": null,
   "id": "99ccd01f",
   "metadata": {},
   "outputs": [],
   "source": []
  },
  {
   "cell_type": "code",
   "execution_count": null,
   "id": "dc0aea8a",
   "metadata": {},
   "outputs": [],
   "source": []
  },
  {
   "cell_type": "code",
   "execution_count": null,
   "id": "bdb58f18",
   "metadata": {},
   "outputs": [],
   "source": []
  },
  {
   "cell_type": "code",
   "execution_count": null,
   "id": "61dc88fb",
   "metadata": {},
   "outputs": [],
   "source": []
  },
  {
   "cell_type": "code",
   "execution_count": null,
   "id": "3b93365c",
   "metadata": {},
   "outputs": [],
   "source": []
  },
  {
   "cell_type": "code",
   "execution_count": null,
   "id": "87705581",
   "metadata": {},
   "outputs": [],
   "source": []
  },
  {
   "cell_type": "code",
   "execution_count": null,
   "id": "fafec889",
   "metadata": {},
   "outputs": [],
   "source": []
  },
  {
   "cell_type": "code",
   "execution_count": null,
   "id": "392bb319",
   "metadata": {},
   "outputs": [],
   "source": []
  },
  {
   "cell_type": "code",
   "execution_count": null,
   "id": "afc6997a",
   "metadata": {},
   "outputs": [],
   "source": []
  },
  {
   "cell_type": "code",
   "execution_count": null,
   "id": "585dae34",
   "metadata": {},
   "outputs": [],
   "source": []
  },
  {
   "cell_type": "code",
   "execution_count": null,
   "id": "044a7949",
   "metadata": {},
   "outputs": [],
   "source": []
  }
 ],
 "metadata": {},
 "nbformat": 4,
 "nbformat_minor": 5
}
