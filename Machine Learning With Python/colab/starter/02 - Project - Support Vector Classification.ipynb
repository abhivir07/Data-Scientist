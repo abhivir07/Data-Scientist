{
 "cells": [
  {
   "cell_type": "markdown",
   "id": "6d283041",
   "metadata": {},
   "source": [
    "<a \n",
    " href=\"https://colab.research.google.com/github/LearnPythonWithRune/MachineLearningWithPython/blob/main/colab/starter/02 - Project - Support Vector Classification.ipynb\"\n",
    " target=\"_parent\">\n",
    "<img \n",
    " src=\"https://colab.research.google.com/assets/colab-badge.svg\"\n",
    "alt=\"Open In Colab\"/>\n",
    "</a>"
   ]
  },
  {
   "cell_type": "markdown",
   "id": "d8b014d9",
   "metadata": {},
   "source": [
    "# Project - Support-Vector Classification\n",
    "- Classify dogs"
   ]
  },
  {
   "cell_type": "markdown",
   "id": "546d879e",
   "metadata": {},
   "source": [
    "### Classification task\n",
    "- 3 dog types and corresponding data\n",
    "\n",
    "<table>\n",
    "    <tr>\n",
    "        <td>Dobermann</td>\n",
    "        <td><img src=\"img/dobermann.jpg\" width=\"100\" align=\"left\"></td>\n",
    "    </tr>\n",
    "    <tr>\n",
    "        <td>German Shepherd</td>\n",
    "        <td><img src=\"img/german_shepherd.jpg\" width=\"100\" align=\"left\"></td>\n",
    "    </tr>\n",
    "    <tr>\n",
    "        <td>Rottweiler</td>\n",
    "        <td><img src=\"img/rottweiler.jpg\" width=\"100\" align=\"left\"></td>\n",
    "    </tr>\n",
    "</table>"
   ]
  },
  {
   "cell_type": "markdown",
   "id": "458228d8",
   "metadata": {},
   "source": [
    "### Step 1: Import libraries"
   ]
  },
  {
   "cell_type": "code",
   "execution_count": null,
   "id": "90eed92e",
   "metadata": {},
   "outputs": [],
   "source": []
  },
  {
   "cell_type": "markdown",
   "id": "c260491e",
   "metadata": {},
   "source": [
    "### Step 2: Read the data\n",
    "- Use Pandas [read_csv](https://pandas.pydata.org/pandas-docs/stable/reference/api/pandas.read_csv.html) method to read **files/data_02.csv**"
   ]
  },
  {
   "cell_type": "code",
   "execution_count": null,
   "id": "de4a400d",
   "metadata": {},
   "outputs": [],
   "source": []
  },
  {
   "cell_type": "code",
   "execution_count": null,
   "id": "72808a77",
   "metadata": {},
   "outputs": [],
   "source": []
  },
  {
   "cell_type": "markdown",
   "id": "940d6cb6",
   "metadata": {},
   "source": [
    "### Step 3: Make class IDs\n",
    "- Note: The model works with name classes - but often it is convenient to use numbers for classes\n",
    "- Create a dictionary to map class names to integers numbers.\n",
    "    - Hint: **class_ids = {'Dobermann': 0, 'German Shepherd': 1, 'Rottweiler': 2}**\n",
    "- Create a column with **Class ID**\n",
    "    - Hint: you can use **apply(lambda x: class_ids[x])**"
   ]
  },
  {
   "cell_type": "code",
   "execution_count": null,
   "id": "96f20557",
   "metadata": {},
   "outputs": [],
   "source": []
  },
  {
   "cell_type": "code",
   "execution_count": null,
   "id": "df6f367b",
   "metadata": {},
   "outputs": [],
   "source": []
  },
  {
   "cell_type": "markdown",
   "id": "b220164c",
   "metadata": {},
   "source": [
    "### Step 4: Scatter plot the data\n",
    "- Create a figure and axes (**fig, ax**) from matplotlib.pyplot (**plt**)\n",
    "- Make a scatter plot using the **Class ID** column as color.\n",
    "    - Hint: [Docs](https://matplotlib.org/stable/api/_as_gen/matplotlib.axes.Axes.scatter.html) use **Weight** and **Height** for **x** and **y**, respectively."
   ]
  },
  {
   "cell_type": "code",
   "execution_count": null,
   "id": "ab2b587a",
   "metadata": {},
   "outputs": [],
   "source": []
  },
  {
   "cell_type": "code",
   "execution_count": null,
   "id": "d4f9dba8",
   "metadata": {},
   "outputs": [],
   "source": []
  },
  {
   "cell_type": "markdown",
   "id": "de7e74d7",
   "metadata": {},
   "source": [
    "### Step 5: Fit a model\n",
    "- Use the **SVC** model with **kernel='linear'**\n",
    "- Fit the model"
   ]
  },
  {
   "cell_type": "code",
   "execution_count": null,
   "id": "e5ba3a10",
   "metadata": {},
   "outputs": [],
   "source": []
  },
  {
   "cell_type": "code",
   "execution_count": null,
   "id": "8ab33983",
   "metadata": {},
   "outputs": [],
   "source": []
  },
  {
   "cell_type": "markdown",
   "id": "0bfe8c9c",
   "metadata": {},
   "source": [
    "### Step 6: Map out the classification\n",
    "- Create a random selection of data\n",
    "    - HINT: use **np.random.rand(10000, 2)** and \"shift\" the data with ***(40, 20) + (25, 55)**\n",
    "- Predict the random selction of data\n",
    "- Create a plot with the data and predictions"
   ]
  },
  {
   "cell_type": "code",
   "execution_count": null,
   "id": "a99d9fc2",
   "metadata": {},
   "outputs": [],
   "source": []
  },
  {
   "cell_type": "code",
   "execution_count": null,
   "id": "2c173c0f",
   "metadata": {},
   "outputs": [],
   "source": []
  },
  {
   "cell_type": "markdown",
   "id": "288570ac",
   "metadata": {},
   "source": [
    "### Step 7 (Optional): Map with original data points\n",
    "- Make the same plot\n",
    "- Add the data points from the original dataset\n",
    "    - You might need to make a color mapping\n",
    "    - Say, **colors = ['b', 'r', 'g']** and use it on the **Class ID** column with **apply**."
   ]
  },
  {
   "cell_type": "code",
   "execution_count": null,
   "id": "7dc945b9",
   "metadata": {},
   "outputs": [],
   "source": []
  },
  {
   "cell_type": "code",
   "execution_count": null,
   "id": "be562e9b",
   "metadata": {},
   "outputs": [],
   "source": []
  }
 ],
 "metadata": {},
 "nbformat": 4,
 "nbformat_minor": 5
}
