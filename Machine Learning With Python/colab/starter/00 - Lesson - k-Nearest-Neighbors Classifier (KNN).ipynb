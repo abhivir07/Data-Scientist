{
 "cells": [
  {
   "cell_type": "markdown",
   "id": "fa719f45",
   "metadata": {},
   "source": [
    "<a \n",
    " href=\"https://colab.research.google.com/github/LearnPythonWithRune/MachineLearningWithPython/blob/main/colab/starter/00 - Lesson - k-Nearest-Neighbors Classifier (KNN).ipynb\"\n",
    " target=\"_parent\">\n",
    "<img \n",
    " src=\"https://colab.research.google.com/assets/colab-badge.svg\"\n",
    "alt=\"Open In Colab\"/>\n",
    "</a>"
   ]
  },
  {
   "cell_type": "markdown",
   "id": "206222f1",
   "metadata": {},
   "source": [
    "# $k$-Nearest-Neighbors Classifier (KNN)\n",
    "\n",
    "### Goal of Lesson\n",
    "- Understand the difference between Classical Computing and Machine Learning\n",
    "- Know the 3 main categories of Machine Learning\n",
    "- Dive into Supervised Learning\n",
    "- Classification with $k$-Nearest-Neighbors Classifier (KNN)\n",
    "- How to classify data\n",
    "- What are the challenges with cleaning data\n",
    "- Create a project on real data with $k$-Nearest-Neighbor Classifier"
   ]
  },
  {
   "cell_type": "markdown",
   "id": "06c79116",
   "metadata": {},
   "source": [
    "## What is Machine Learning?\n",
    "\n",
    "![Machine Learning](img/machine_learning.png)\n",
    "\n",
    "- In the **classical computing model** every thing is programmed into the algorithms. \n",
    "    - This has the limitation that all decision logic need to be understood before usage. \n",
    "    - And if things change, we need to modify the program.\n",
    "- With the **modern computing model (Machine Learning)** this paradigm is changes. \n",
    "    - We feed the algorithms (models) with data.\n",
    "    - Based on that data, the algorithms (models) make decisions in the program."
   ]
  },
  {
   "cell_type": "markdown",
   "id": "e4e03983",
   "metadata": {},
   "source": [
    "## How Machine Learning Works\n",
    "\n",
    "### Phase 1: Learning\n",
    "\n",
    "![ML Learning](img/ml_process.png)\n",
    "\n",
    "- **Get Data**: Identify relevant data for the problem you want to solve. This data set should represent the type of data that the Machine Learn model will use to predict from in Phase 2 (predction).\n",
    "- **Pre-processing**: This step is about cleaning up data. While the Machine Learning is awesome, it cannot figure out what good data looks like. You need to do the cleaning as well as transforming data into a desired format.\n",
    "- **Train model**: This is where the magic happens, the learning step (Train model). There are three main paradigms in machine learning.\n",
    "    - **Supervised**: where you tell the algorithm what categories each data item is in. Each data item from the training set is tagged with the right answer.\n",
    "    - **Unsupervised**: is when the learning algorithm is not told what to do with it and it should make the structure itself.\n",
    "    - **Reinforcement**: teaches the machine to think for itself based on past action rewards.\n",
    "- **Test model**: Finally, the testing is done to see if the model is good. The training data was divided into a test set and training set. The test set is used to see if the model can predict from it. If not, a new model might be necessary.\n",
    "\n",
    "### Phase 2: Prediction\n",
    "\n",
    "![ML Prediction](img/ml_prediction.png)"
   ]
  },
  {
   "cell_type": "markdown",
   "id": "490cc67c",
   "metadata": {},
   "source": [
    " ## Supervised Learning\n",
    " - Given a dataset of input-output pairs, learn a function to map inputs to outputs\n",
    " - There are different tasks - but we start to focus on **Classification**\n",
    " \n",
    " \n",
    " ### Classification\n",
    " - **Supervised learning**: the task of learning a function mapping an input point to a descrete category"
   ]
  },
  {
   "cell_type": "markdown",
   "id": "197e1bb4",
   "metadata": {},
   "source": [
    "### Example\n",
    "- Predict if it is going to rain or not\n",
    "- We have historical data to train our model\n",
    "\n",
    "| Date       | Humidity  | Pressure  | Rain      |\n",
    "| :--------- |:---------:| ---------:| :---------|\n",
    "| Jan. 1     | 93%       | 999.7     | Rain      |\n",
    "| Jan. 2     | 49%       | 1015.5    | No Rain   |\n",
    "| Jan. 3     | 79%       | 1031.1    | No Rain   |\n",
    "| Jan. 4     | 65%       | 984.9     | Rain      |\n",
    "| Jan. 5     | 90%       | 975.2     | Rain      |\n",
    "\n",
    "- This is supervised learning as it has the label"
   ]
  },
  {
   "cell_type": "markdown",
   "id": "7bcdbb77",
   "metadata": {},
   "source": [
    "### The task of Supervised Learning\n",
    "- Simply explained, the task of from the example above, is to find a funcion $f$ as follows.\n",
    "\n",
    "**Ideally**: $f(humidity, pressure)$\n",
    "\n",
    "Examples:\n",
    "- $f(93, 999.7) =$ Rain\n",
    "- $f(49, 1015.5) =$ No Rain\n",
    "- $f(79, 1031.1 =$ No Rain\n",
    "\n",
    "**Goal**: Approximate the function $f$ - the approximation function is often denoted $h$"
   ]
  },
  {
   "cell_type": "markdown",
   "id": "b7d2f82f",
   "metadata": {},
   "source": [
    "Let's start by visualizing it\n",
    "- Notice that we can do this because it only has two dimensions\n",
    "- Computers have no problem with higher dimensions."
   ]
  },
  {
   "cell_type": "markdown",
   "id": "9069dba9",
   "metadata": {},
   "source": [
    "> #### Programming Notes:\n",
    "> - Libraries used\n",
    ">     - [**pandas**](https://pandas.pydata.org) - a data analysis and manipulation tool\n",
    ">     - [**matplotlib**](http://matplotlib.org) - visualization with Python ([Lecture on **visualization**](https://youtu.be/htIh8YHh4xs))\n",
    "> - Functionality and concepts used\n",
    ">     - [**CSV**](https://en.wikipedia.org/wiki/Comma-separated_values) file ([Lecture on CSV](https://youtu.be/LEyojSOg4EI))\n",
    ">     - [**read_csv()**](https://pandas.pydata.org/pandas-docs/stable/reference/api/pandas.read_csv.html) read a comma-separated values (csv) file into **pandas** DataFrame.\n",
    ">     - **List Comprehension** to convert data ([Lecture on **List Comprehension**](https://youtu.be/vCYEvtfXdig))"
   ]
  },
  {
   "cell_type": "code",
   "execution_count": null,
   "id": "d519be97",
   "metadata": {},
   "outputs": [],
   "source": []
  },
  {
   "cell_type": "code",
   "execution_count": null,
   "id": "9087e035",
   "metadata": {},
   "outputs": [],
   "source": []
  },
  {
   "cell_type": "code",
   "execution_count": null,
   "id": "01ea2046",
   "metadata": {},
   "outputs": [],
   "source": []
  },
  {
   "cell_type": "code",
   "execution_count": null,
   "id": "bfbbf62a",
   "metadata": {},
   "outputs": [],
   "source": []
  },
  {
   "cell_type": "code",
   "execution_count": null,
   "id": "f94089b0",
   "metadata": {},
   "outputs": [],
   "source": []
  },
  {
   "cell_type": "code",
   "execution_count": null,
   "id": "0a9146e6",
   "metadata": {},
   "outputs": [],
   "source": []
  },
  {
   "cell_type": "code",
   "execution_count": null,
   "id": "3c4da04b",
   "metadata": {},
   "outputs": [],
   "source": []
  },
  {
   "cell_type": "code",
   "execution_count": null,
   "id": "3d13ecda",
   "metadata": {},
   "outputs": [],
   "source": []
  },
  {
   "cell_type": "code",
   "execution_count": null,
   "id": "6e6da578",
   "metadata": {},
   "outputs": [],
   "source": []
  },
  {
   "cell_type": "code",
   "execution_count": null,
   "id": "382dc1c4",
   "metadata": {},
   "outputs": [],
   "source": []
  },
  {
   "cell_type": "markdown",
   "id": "68283a92",
   "metadata": {},
   "source": [
    "### Nearest-Neighbors Classification\n",
    "- Given an input, choose the class of nearest datapoint\n",
    "\n",
    "![Nearest-Neighbors Classification](img/nearest_neighbors.png)"
   ]
  },
  {
   "cell_type": "markdown",
   "id": "e37f5de7",
   "metadata": {},
   "source": [
    "### $k$-Nearest-Neighbors Classification\n",
    "- Given an input, choose the most common class out of the $k$ nearest data points"
   ]
  },
  {
   "cell_type": "markdown",
   "id": "ec587a67",
   "metadata": {},
   "source": [
    "### Overfitting\n",
    "- a model that fits too closely to a particular dataset - but fails to predict on future values\n",
    "\n",
    "### Some approaches\n",
    "- **Regularization**: penalizing hypothesis that are more complex to favore simpler ones\n",
    "- [**Holdout Cross-validation**](https://en.wikipedia.org/wiki/Cross-validation_(statistics)#Holdout_method): split data into training and testing sets.\n",
    "- [**$k$-fold Cross validation**](https://en.wikipedia.org/wiki/Cross-validation_(statistics)#k-fold_cross-validation): Splitting data into $k$ sets and run $k$ experiments with each set as test set once (using the remaing data as training set)"
   ]
  },
  {
   "cell_type": "markdown",
   "id": "8a57ca42",
   "metadata": {},
   "source": [
    "> #### Programming Notes:\n",
    "> - Libraries used\n",
    ">     - [**numpy**](http://numpy.org) - scientific computing with Python ([Lecture on NumPy](https://youtu.be/BpzpU8_j0-c))\n",
    ">     - [**sklearn**](https://scikit-learn.org/stable/) - tools for predictive data analysis\n",
    "> - Functionality and concepts used\n",
    ">     - [**dropna()**](https://pandas.pydata.org/pandas-docs/stable/reference/api/pandas.DataFrame.dropna.html) clean the **pandas** DataFrame\n",
    ">     - **List Comprehension** to convert data ([Lecture on **List Comprehension**](https://youtu.be/vCYEvtfXdig))\n",
    ">     - [**train_test_split**](https://scikit-learn.org/stable/modules/generated/sklearn.model_selection.train_test_split.html) from [**sklearn**](https://scikit-learn.org/stable/)\n",
    ">     - [**KNeighborsClassifier**](https://scikit-learn.org/stable/modules/generated/sklearn.neighbors.KNeighborsClassifier.html) to train (fit) the model\n",
    ">     - [**metrics.accuracy_score**](https://scikit-learn.org/stable/modules/generated/sklearn.metrics.accuracy_score.html) to get the accuracy of the predictions"
   ]
  },
  {
   "cell_type": "code",
   "execution_count": null,
   "id": "f738d66c",
   "metadata": {},
   "outputs": [],
   "source": []
  },
  {
   "cell_type": "code",
   "execution_count": null,
   "id": "bc17b725",
   "metadata": {},
   "outputs": [],
   "source": []
  },
  {
   "cell_type": "code",
   "execution_count": null,
   "id": "f696ef40",
   "metadata": {},
   "outputs": [],
   "source": []
  },
  {
   "cell_type": "code",
   "execution_count": null,
   "id": "1fa95f5a",
   "metadata": {},
   "outputs": [],
   "source": []
  },
  {
   "cell_type": "code",
   "execution_count": null,
   "id": "5f20d231",
   "metadata": {},
   "outputs": [],
   "source": []
  },
  {
   "cell_type": "code",
   "execution_count": null,
   "id": "3a0704fd",
   "metadata": {},
   "outputs": [],
   "source": []
  },
  {
   "cell_type": "code",
   "execution_count": null,
   "id": "7eb05790",
   "metadata": {},
   "outputs": [],
   "source": []
  },
  {
   "cell_type": "code",
   "execution_count": null,
   "id": "13867840",
   "metadata": {},
   "outputs": [],
   "source": []
  },
  {
   "cell_type": "code",
   "execution_count": null,
   "id": "44df529b",
   "metadata": {},
   "outputs": [],
   "source": []
  },
  {
   "cell_type": "code",
   "execution_count": null,
   "id": "67892360",
   "metadata": {},
   "outputs": [],
   "source": []
  },
  {
   "cell_type": "code",
   "execution_count": null,
   "id": "ca49f588",
   "metadata": {},
   "outputs": [],
   "source": []
  },
  {
   "cell_type": "code",
   "execution_count": null,
   "id": "543ecdeb",
   "metadata": {},
   "outputs": [],
   "source": []
  }
 ],
 "metadata": {},
 "nbformat": 4,
 "nbformat_minor": 5
}
