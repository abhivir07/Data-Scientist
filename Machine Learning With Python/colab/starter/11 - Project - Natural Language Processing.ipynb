{
 "cells": [
  {
   "cell_type": "markdown",
   "id": "021aab16",
   "metadata": {},
   "source": [
    "<a \n",
    " href=\"https://colab.research.google.com/github/LearnPythonWithRune/MachineLearningWithPython/blob/main/colab/starter/11 - Project - Natural Language Processing.ipynb\"\n",
    " target=\"_parent\">\n",
    "<img \n",
    " src=\"https://colab.research.google.com/assets/colab-badge.svg\"\n",
    "alt=\"Open In Colab\"/>\n",
    "</a>"
   ]
  },
  {
   "cell_type": "markdown",
   "id": "bbac054e",
   "metadata": {},
   "source": [
    "# Project - Natural Language Processing\n",
    "- Can you determine who tweeted this?"
   ]
  },
  {
   "cell_type": "markdown",
   "id": "e1c81218",
   "metadata": {},
   "source": [
    "### Description\n",
    "- We will analyze a collection of tweets from one tweet account\n",
    "- Can we figure out the person behind the account?"
   ]
  },
  {
   "cell_type": "markdown",
   "id": "74bc044f",
   "metadata": {},
   "source": [
    "### Step 1: Import libraries"
   ]
  },
  {
   "cell_type": "code",
   "execution_count": null,
   "id": "cfd3b125",
   "metadata": {},
   "outputs": [],
   "source": []
  },
  {
   "cell_type": "markdown",
   "id": "32280f22",
   "metadata": {},
   "source": [
    "### Step 2: Import data\n",
    "- Use Pandas [read_csv](https://pandas.pydata.org/pandas-docs/stable/reference/api/pandas.read_csv.html) method to read files/tweets.csv"
   ]
  },
  {
   "cell_type": "code",
   "execution_count": null,
   "id": "6fc2deb4",
   "metadata": {},
   "outputs": [],
   "source": []
  },
  {
   "cell_type": "code",
   "execution_count": null,
   "id": "f6451f36",
   "metadata": {},
   "outputs": [],
   "source": []
  },
  {
   "cell_type": "markdown",
   "id": "37099a8c",
   "metadata": {},
   "source": [
    "### Step 3: Convert content to a list of content\n",
    "- Use list on the column **content**\n",
    "    - You can also apply [to_list()](https://pandas.pydata.org/docs/reference/api/pandas.Series.to_list.html) on the column"
   ]
  },
  {
   "cell_type": "code",
   "execution_count": null,
   "id": "31bbbcc3",
   "metadata": {},
   "outputs": [],
   "source": []
  },
  {
   "cell_type": "code",
   "execution_count": null,
   "id": "52c79e6d",
   "metadata": {},
   "outputs": [],
   "source": []
  },
  {
   "cell_type": "markdown",
   "id": "24c9b883",
   "metadata": {},
   "source": [
    "### Step 4: Create a corpus\n",
    "- Create an empty list called **corpus**\n",
    "- Iterate over **content**\n",
    "    - Extend **corpus** with all words in lowercase if any character is alpha in the word.\n",
    "        - HINT: To lowercase, call **lower()** on the word.\n",
    "        - HINT: To check if any character is alhpa, use **any(c.isalpha() for c in word)**"
   ]
  },
  {
   "cell_type": "code",
   "execution_count": null,
   "id": "8aff0963",
   "metadata": {},
   "outputs": [],
   "source": []
  },
  {
   "cell_type": "code",
   "execution_count": null,
   "id": "bb9f1a4b",
   "metadata": {},
   "outputs": [],
   "source": []
  },
  {
   "cell_type": "markdown",
   "id": "9e69e419",
   "metadata": {},
   "source": [
    "### Step 5: Check corpus\n",
    "- Find the length of the corpus\n",
    "- Look at the first 10 words in the corpus"
   ]
  },
  {
   "cell_type": "code",
   "execution_count": null,
   "id": "25c66951",
   "metadata": {},
   "outputs": [],
   "source": []
  },
  {
   "cell_type": "code",
   "execution_count": null,
   "id": "f200d62f",
   "metadata": {},
   "outputs": [],
   "source": []
  },
  {
   "cell_type": "markdown",
   "id": "6ed7bb50",
   "metadata": {},
   "source": [
    "### Step 6: Display all 3-grams\n",
    "- Use **Counter(ngrams(corpus, 3))** and assign it to a variable\n",
    "- List the 10 most common 3-grams\n",
    "    - HINT: call **most_common(10)** on the result from **Counter(...)**"
   ]
  },
  {
   "cell_type": "code",
   "execution_count": null,
   "id": "60992f01",
   "metadata": {},
   "outputs": [],
   "source": []
  },
  {
   "cell_type": "code",
   "execution_count": null,
   "id": "af18fe1d",
   "metadata": {},
   "outputs": [],
   "source": []
  },
  {
   "cell_type": "markdown",
   "id": "95494b28",
   "metadata": {},
   "source": [
    "### Step 7 (Optional): Pretty print\n",
    "- Iterate over the result with a for-loop\n",
    "    - HINT: Each loop gives a **ngram** and **frequency**"
   ]
  },
  {
   "cell_type": "code",
   "execution_count": null,
   "id": "a7134c30",
   "metadata": {},
   "outputs": [],
   "source": []
  },
  {
   "cell_type": "code",
   "execution_count": null,
   "id": "f3ed1f29",
   "metadata": {},
   "outputs": [],
   "source": []
  },
  {
   "cell_type": "markdown",
   "id": "b48d23ca",
   "metadata": {},
   "source": [
    "### Step 8 (Optional): Try it with 4-grams"
   ]
  },
  {
   "cell_type": "code",
   "execution_count": null,
   "id": "4907ce9b",
   "metadata": {},
   "outputs": [],
   "source": []
  },
  {
   "cell_type": "code",
   "execution_count": null,
   "id": "0a6a4627",
   "metadata": {},
   "outputs": [],
   "source": []
  },
  {
   "cell_type": "code",
   "execution_count": null,
   "id": "79131416",
   "metadata": {},
   "outputs": [],
   "source": []
  }
 ],
 "metadata": {},
 "nbformat": 4,
 "nbformat_minor": 5
}
