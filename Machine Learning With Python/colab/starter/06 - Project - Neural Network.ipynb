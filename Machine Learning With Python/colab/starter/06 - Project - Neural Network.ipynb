{
 "cells": [
  {
   "cell_type": "markdown",
   "id": "a330d8b6",
   "metadata": {},
   "source": [
    "<a \n",
    " href=\"https://colab.research.google.com/github/LearnPythonWithRune/MachineLearningWithPython/blob/main/colab/starter/06 - Project - Neural Network.ipynb\"\n",
    " target=\"_parent\">\n",
    "<img \n",
    " src=\"https://colab.research.google.com/assets/colab-badge.svg\"\n",
    "alt=\"Open In Colab\"/>\n",
    "</a>"
   ]
  },
  {
   "cell_type": "markdown",
   "id": "8b1dcffe",
   "metadata": {},
   "source": [
    "# Project: Neural Network\n",
    "- Diabetes Classification\n",
    "- Given a dataset of various metrics can we predict if a patient has diabetes"
   ]
  },
  {
   "cell_type": "markdown",
   "id": "9631cb36",
   "metadata": {},
   "source": [
    "### Step 1: Import libraries"
   ]
  },
  {
   "cell_type": "code",
   "execution_count": null,
   "id": "a13c72bd",
   "metadata": {},
   "outputs": [],
   "source": []
  },
  {
   "cell_type": "markdown",
   "id": "c42bbc01",
   "metadata": {},
   "source": [
    "### Step 2: Read the data\n",
    "- Use Pandas [read_csv](https://pandas.pydata.org/pandas-docs/stable/reference/api/pandas.read_csv.html) method to read **files/diabetes.csv**"
   ]
  },
  {
   "cell_type": "code",
   "execution_count": null,
   "id": "926874ae",
   "metadata": {},
   "outputs": [],
   "source": []
  },
  {
   "cell_type": "code",
   "execution_count": null,
   "id": "eef06e14",
   "metadata": {},
   "outputs": [],
   "source": []
  },
  {
   "cell_type": "markdown",
   "id": "afaa56d9",
   "metadata": {},
   "source": [
    "### Step 3: Check for data quality\n",
    "- Check **.isna().sum()**\n",
    "- Check **.dtypes**"
   ]
  },
  {
   "cell_type": "code",
   "execution_count": null,
   "id": "9dfe87da",
   "metadata": {},
   "outputs": [],
   "source": []
  },
  {
   "cell_type": "code",
   "execution_count": null,
   "id": "9bbfcf57",
   "metadata": {},
   "outputs": [],
   "source": []
  },
  {
   "cell_type": "markdown",
   "id": "c11677e0",
   "metadata": {},
   "source": [
    "### Step 4: Create dataset\n",
    "- Assign **X** to all but the last column\n",
    "- Assign **y** to the last column"
   ]
  },
  {
   "cell_type": "code",
   "execution_count": null,
   "id": "a27e4747",
   "metadata": {},
   "outputs": [],
   "source": []
  },
  {
   "cell_type": "code",
   "execution_count": null,
   "id": "67cb5ae1",
   "metadata": {},
   "outputs": [],
   "source": []
  },
  {
   "cell_type": "markdown",
   "id": "8017f19c",
   "metadata": {},
   "source": [
    "### Step 5: Create training and test set\n",
    "- Use **train_test_split** to create **X_train, X_test, y_train, y_test**."
   ]
  },
  {
   "cell_type": "code",
   "execution_count": null,
   "id": "24fb9533",
   "metadata": {},
   "outputs": [],
   "source": []
  },
  {
   "cell_type": "code",
   "execution_count": null,
   "id": "a0748f48",
   "metadata": {},
   "outputs": [],
   "source": []
  },
  {
   "cell_type": "markdown",
   "id": "2ca69460",
   "metadata": {},
   "source": [
    "### Step 6: Calculate average accuracy for 10 runs\n",
    "- Create an empty list and assign it to **accuracies**\n",
    "- Loop over **i** over 10 integers.\n",
    "    - Set the random seed: **tf.random.set_seed(i)**\n",
    "    - Create a **Sequential** model\n",
    "    - Add a **Dense** layer with one exit node and **input_dim=8**, and **activation='sigmoid'**\n",
    "    - Compile the model with **loss='binary_crossentropy', optimizer='adam', metrics=['accuracy']**\n",
    "    - Fit the model with **epochs=1500, batch_size=100, verbose=0**\n",
    "    - Calculate the accuracy with **evaluate** on **X_test** and **y_test**\n",
    "        - The second return variable is the accuracy\n",
    "    - Append the accuracy (possibly multiplied by 100) to **accuraries**\n",
    "- Calculate the average value"
   ]
  },
  {
   "cell_type": "code",
   "execution_count": null,
   "id": "87580e9b",
   "metadata": {},
   "outputs": [],
   "source": []
  },
  {
   "cell_type": "code",
   "execution_count": null,
   "id": "1bbc507b",
   "metadata": {},
   "outputs": [],
   "source": []
  },
  {
   "cell_type": "markdown",
   "id": "b8ff3d82",
   "metadata": {},
   "source": [
    "### Step 7: Predict values\n",
    "- Predict all values with model on **X**\n",
    "- Make it into class ids with **np.where(y_pred < 0.5, 0, 1)** *(assuming **y_pred** is the predictions)*"
   ]
  },
  {
   "cell_type": "code",
   "execution_count": null,
   "id": "3564d0ad",
   "metadata": {},
   "outputs": [],
   "source": []
  },
  {
   "cell_type": "code",
   "execution_count": null,
   "id": "fac9ce44",
   "metadata": {},
   "outputs": [],
   "source": []
  },
  {
   "cell_type": "markdown",
   "id": "7e3999bd",
   "metadata": {},
   "source": [
    "### Step 8 (Optional): Visualize correct vs incorrect predictions\n",
    "- Calculate the ones that differ\n",
    "    - **np.abs(y.to_numpy() - y_pred.T)** *(assuming the variables names are correct)*\n",
    "    - Incorrect predictions will be 1, correct will be 0\n",
    "- Make a scatter plot with the two variables and the correctness calculations as colors"
   ]
  },
  {
   "cell_type": "code",
   "execution_count": null,
   "id": "93e6a19e",
   "metadata": {},
   "outputs": [],
   "source": []
  },
  {
   "cell_type": "code",
   "execution_count": null,
   "id": "9d8dcc7c",
   "metadata": {},
   "outputs": [],
   "source": []
  }
 ],
 "metadata": {},
 "nbformat": 4,
 "nbformat_minor": 5
}
