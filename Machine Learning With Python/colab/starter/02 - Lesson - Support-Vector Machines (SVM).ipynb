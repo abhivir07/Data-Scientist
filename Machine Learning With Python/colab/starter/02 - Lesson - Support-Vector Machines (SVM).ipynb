{
 "cells": [
  {
   "cell_type": "markdown",
   "id": "7c3f4556",
   "metadata": {},
   "source": [
    "<a \n",
    " href=\"https://colab.research.google.com/github/LearnPythonWithRune/MachineLearningWithPython/blob/main/colab/starter/02 - Lesson - Support-Vector Machines (SVM).ipynb\"\n",
    " target=\"_parent\">\n",
    "<img \n",
    " src=\"https://colab.research.google.com/assets/colab-badge.svg\"\n",
    "alt=\"Open In Colab\"/>\n",
    "</a>"
   ]
  },
  {
   "cell_type": "markdown",
   "id": "eecbebca",
   "metadata": {},
   "source": [
    "# Support-Vector Machine (SVM)\n",
    "### Goal of lesson\n",
    "- Learn about the problem of seperation\n",
    "- The idea to maximize the distance\n",
    "- Work with examples to demonstrate the issue"
   ]
  },
  {
   "cell_type": "markdown",
   "id": "df327a42",
   "metadata": {},
   "source": [
    "## Maximum Margin Separator\n",
    "- Boundary that maximizes the distances between any of the data points ([Wiki](https://en.wikipedia.org/wiki/Support-vector_machine))\n",
    "\n",
    "**The problem**\n",
    "\n",
    "![SVM Example 0](img/svm_ex0.png)\n",
    "\n",
    "**The Maximum Margin Seperator**\n",
    "\n",
    "![SVM Example 1](img/svm_ex1.png)"
   ]
  },
  {
   "cell_type": "markdown",
   "id": "85575d22",
   "metadata": {},
   "source": [
    "### Support Vector Machine\n",
    "- **sklearn** has Support Vector Classification ([docs](https://scikit-learn.org/stable/modules/generated/sklearn.svm.SVC.html))\n",
    "- We will use the linear kernel ([docs](https://scikit-learn.org/stable/modules/svm.html#kernel-functions))\n",
    "    - For more on kernels see [wiki](https://en.wikipedia.org/wiki/Kernel_method)"
   ]
  },
  {
   "cell_type": "markdown",
   "id": "9f475bc0",
   "metadata": {},
   "source": [
    "> #### Programming Notes:\n",
    "> - Libraries used\n",
    ">     - [**pandas**](https://pandas.pydata.org) - a data analysis and manipulation tool\n",
    ">     - [**numpy**](http://numpy.org) - scientific computing with Python ([Lecture on NumPy](https://youtu.be/BpzpU8_j0-c))\n",
    ">     - [**matplotlib**](http://matplotlib.org) - visualization with Python ([Lecture on **visualization**](https://youtu.be/htIh8YHh4xs))\n",
    ">     - [**sklearn**](https://scikit-learn.org/stable/) - tools for predictive data analysis\n",
    "> - Functionality and concepts used\n",
    ">     - [**CSV**](https://en.wikipedia.org/wiki/Comma-separated_values) file ([Lecture on CSV](https://youtu.be/LEyojSOg4EI))\n",
    ">     - [**read_csv()**](https://pandas.pydata.org/pandas-docs/stable/reference/api/pandas.read_csv.html) read a comma-separated values (csv) file into **pandas** DataFrame.\n",
    ">     - [**lambda**](https://docs.python.org/3/tutorial/controlflow.html#lambda-expressions) lambda functions\n",
    ">     - **List Comprehension** to convert data ([Lecture on **List Comprehension**](https://youtu.be/vCYEvtfXdig))\n",
    ">     - [**apply()**](https://pandas.pydata.org/docs/reference/api/pandas.DataFrame.apply.html) to transform a **pandas** DataFrame\n",
    ">     - [**SVM**](https://scikit-learn.org/stable/auto_examples/svm/plot_svm_kernels.html) to train (fit) the model"
   ]
  },
  {
   "cell_type": "code",
   "execution_count": null,
   "id": "9d8db98b",
   "metadata": {},
   "outputs": [],
   "source": []
  },
  {
   "cell_type": "code",
   "execution_count": null,
   "id": "9bd3cd7a",
   "metadata": {},
   "outputs": [],
   "source": []
  },
  {
   "cell_type": "code",
   "execution_count": null,
   "id": "185ed612",
   "metadata": {},
   "outputs": [],
   "source": []
  },
  {
   "cell_type": "code",
   "execution_count": null,
   "id": "387925a0",
   "metadata": {},
   "outputs": [],
   "source": []
  },
  {
   "cell_type": "code",
   "execution_count": null,
   "id": "38094c9e",
   "metadata": {},
   "outputs": [],
   "source": []
  },
  {
   "cell_type": "code",
   "execution_count": null,
   "id": "93cfa277",
   "metadata": {},
   "outputs": [],
   "source": []
  },
  {
   "cell_type": "code",
   "execution_count": null,
   "id": "b66bf46a",
   "metadata": {},
   "outputs": [],
   "source": []
  },
  {
   "cell_type": "code",
   "execution_count": null,
   "id": "2e79e954",
   "metadata": {},
   "outputs": [],
   "source": []
  },
  {
   "cell_type": "code",
   "execution_count": null,
   "id": "58ed5795",
   "metadata": {},
   "outputs": [],
   "source": []
  },
  {
   "cell_type": "code",
   "execution_count": null,
   "id": "3d847098",
   "metadata": {},
   "outputs": [],
   "source": []
  },
  {
   "cell_type": "code",
   "execution_count": null,
   "id": "04d9e325",
   "metadata": {},
   "outputs": [],
   "source": []
  },
  {
   "cell_type": "code",
   "execution_count": null,
   "id": "7d12375c",
   "metadata": {},
   "outputs": [],
   "source": []
  }
 ],
 "metadata": {},
 "nbformat": 4,
 "nbformat_minor": 5
}
