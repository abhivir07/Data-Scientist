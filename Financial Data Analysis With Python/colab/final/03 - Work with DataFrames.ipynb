{
 "cells": [
  {
   "cell_type": "markdown",
   "id": "eb8dc64e",
   "metadata": {},
   "source": [
    "<a \n",
    " href=\"https://colab.research.google.com/github/LearnPythonWithRune/FinancialDataAnalysisWithPython/blob/main/colab/final/03 - Work with DataFrames.ipynb\"\n",
    " target=\"_parent\">\n",
    "<img \n",
    " src=\"https://colab.research.google.com/assets/colab-badge.svg\"\n",
    "alt=\"Open In Colab\"/>\n",
    "</a>"
   ]
  },
  {
   "cell_type": "markdown",
   "id": "8d8d2c2a",
   "metadata": {},
   "source": [
    "# Modify DataFrames and Useful functions\n",
    "- Calculate with columns\n",
    "- Create new columns\n",
    "- Drop columns\n",
    "- Min, Max, Argmin, and Argmax\n",
    "- Mean"
   ]
  },
  {
   "cell_type": "code",
   "execution_count": null,
   "id": "4391431f",
   "metadata": {},
   "outputs": [],
   "source": [
    "import pandas as pd"
   ]
  },
  {
   "cell_type": "code",
   "execution_count": null,
   "id": "93e1fd5a",
   "metadata": {},
   "outputs": [],
   "source": [
    "remote_file = \"https://raw.githubusercontent.com/LearnPythonWithRune/FinancialDataAnalysisWithPython/main/files/AAPL.csv\"\n",
    "data = pd.read_csv(remote_file, index_col=0, parse_dates=True)"
   ]
  },
  {
   "cell_type": "code",
   "execution_count": null,
   "id": "0ab2d38b",
   "metadata": {},
   "outputs": [],
   "source": [
    "data.head()"
   ]
  },
  {
   "cell_type": "code",
   "execution_count": null,
   "id": "98f3d9a5",
   "metadata": {},
   "outputs": [],
   "source": [
    "data['Daily chg'] = data['Close'] - data['Open']"
   ]
  },
  {
   "cell_type": "code",
   "execution_count": null,
   "id": "4c55f6f1",
   "metadata": {},
   "outputs": [],
   "source": [
    "data.head()"
   ]
  },
  {
   "cell_type": "code",
   "execution_count": null,
   "id": "dc161d44",
   "metadata": {},
   "outputs": [],
   "source": [
    "data['Normalized'] = data['Close'] / data['Close'].iloc[0]"
   ]
  },
  {
   "cell_type": "code",
   "execution_count": null,
   "id": "172ded75",
   "metadata": {},
   "outputs": [],
   "source": [
    "data.head()"
   ]
  },
  {
   "cell_type": "code",
   "execution_count": null,
   "id": "18c0b438",
   "metadata": {},
   "outputs": [],
   "source": [
    "data.tail()"
   ]
  },
  {
   "cell_type": "code",
   "execution_count": null,
   "id": "7ebe5063",
   "metadata": {},
   "outputs": [],
   "source": [
    "data['Close'].min()"
   ]
  },
  {
   "cell_type": "code",
   "execution_count": null,
   "id": "9a85ee1e",
   "metadata": {},
   "outputs": [],
   "source": [
    "data.min()"
   ]
  },
  {
   "cell_type": "code",
   "execution_count": null,
   "id": "ed8433eb",
   "metadata": {},
   "outputs": [],
   "source": [
    "data['Close'].argmin()"
   ]
  },
  {
   "cell_type": "code",
   "execution_count": null,
   "id": "605119ed",
   "metadata": {},
   "outputs": [],
   "source": [
    "data.iloc[35:44]"
   ]
  },
  {
   "cell_type": "code",
   "execution_count": null,
   "id": "319bc0cf",
   "metadata": {},
   "outputs": [],
   "source": [
    "data['Normalized'].min()"
   ]
  },
  {
   "cell_type": "code",
   "execution_count": null,
   "id": "d3471b67",
   "metadata": {},
   "outputs": [],
   "source": [
    "data['Normalized'].argmin()"
   ]
  },
  {
   "cell_type": "code",
   "execution_count": null,
   "id": "5c1a16fe",
   "metadata": {},
   "outputs": [],
   "source": [
    "data['Close'].max()"
   ]
  },
  {
   "cell_type": "code",
   "execution_count": null,
   "id": "65e07de5",
   "metadata": {},
   "outputs": [],
   "source": [
    "data['Close'].argmax()"
   ]
  },
  {
   "cell_type": "code",
   "execution_count": null,
   "id": "c738bfc6",
   "metadata": {},
   "outputs": [],
   "source": [
    "data.iloc[251:]"
   ]
  },
  {
   "cell_type": "code",
   "execution_count": null,
   "id": "05e1d344",
   "metadata": {},
   "outputs": [],
   "source": [
    "data['Close'].mean()"
   ]
  },
  {
   "cell_type": "code",
   "execution_count": null,
   "id": "b274d76b",
   "metadata": {},
   "outputs": [],
   "source": [
    "data.head()"
   ]
  },
  {
   "cell_type": "code",
   "execution_count": null,
   "id": "5d79fae9",
   "metadata": {},
   "outputs": [],
   "source": [
    "data.drop(labels=['High', 'Low', 'Adj Close', 'Volume'], axis=1, inplace=True)"
   ]
  },
  {
   "cell_type": "code",
   "execution_count": null,
   "id": "a2b79d17",
   "metadata": {},
   "outputs": [],
   "source": [
    "data.head()"
   ]
  },
  {
   "cell_type": "code",
   "execution_count": null,
   "id": "17e038d8",
   "metadata": {},
   "outputs": [],
   "source": []
  }
 ],
 "metadata": {
  "language_info": {
   "name": "python"
  }
 },
 "nbformat": 4,
 "nbformat_minor": 5
}
