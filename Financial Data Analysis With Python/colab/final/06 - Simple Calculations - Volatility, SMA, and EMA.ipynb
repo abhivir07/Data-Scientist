{
 "cells": [
  {
   "cell_type": "markdown",
   "id": "224e0b2a",
   "metadata": {},
   "source": [
    "<a \n",
    " href=\"https://colab.research.google.com/github/LearnPythonWithRune/FinancialDataAnalysisWithPython/blob/main/colab/final/06 - Simple Calculations - Volatility, SMA, and EMA.ipynb\"\n",
    " target=\"_parent\">\n",
    "<img \n",
    " src=\"https://colab.research.google.com/assets/colab-badge.svg\"\n",
    "alt=\"Open In Colab\"/>\n",
    "</a>"
   ]
  },
  {
   "cell_type": "markdown",
   "id": "5d599a97",
   "metadata": {},
   "source": [
    "# Calculating simple \n",
    "- Pct change\n",
    "- Log returns\n",
    "- Standard deviation (Volatility)\n",
    "- Rolling\n",
    "    - Simple Moving Avarage\n",
    "    - Exponential Moving Average"
   ]
  },
  {
   "cell_type": "markdown",
   "id": "2bad2249",
   "metadata": {},
   "source": [
    "### Standard deviation\n",
    "\n",
    "- $\\sigma_{p} = \\sigma_{daily}\\times \\sqrt{p}$\n",
    "- $\\sigma_{annually} = \\sigma_{daily}\\times \\sqrt{252}$\n",
    " \n",
    "    *(252 trading days per year)*"
   ]
  },
  {
   "cell_type": "code",
   "execution_count": null,
   "id": "0b979728",
   "metadata": {},
   "outputs": [],
   "source": [
    "import pandas as pd\n",
    "import matplotlib.pyplot as plt\n",
    "%matplotlib notebook"
   ]
  },
  {
   "cell_type": "code",
   "execution_count": null,
   "id": "9b964c53",
   "metadata": {},
   "outputs": [],
   "source": [
    "remote_file = \"https://raw.githubusercontent.com/LearnPythonWithRune/FinancialDataAnalysisWithPython/main/files/AAPL.csv\"\n",
    "data = pd.read_csv(remote_file, index_col=0, parse_dates=True)"
   ]
  },
  {
   "cell_type": "code",
   "execution_count": null,
   "id": "f53f742a",
   "metadata": {},
   "outputs": [],
   "source": [
    "data.head()"
   ]
  },
  {
   "cell_type": "code",
   "execution_count": null,
   "id": "8ae88781",
   "metadata": {},
   "outputs": [],
   "source": [
    "data['%-chg'] = data['Close'].pct_change()"
   ]
  },
  {
   "cell_type": "code",
   "execution_count": null,
   "id": "2392bf84",
   "metadata": {},
   "outputs": [],
   "source": [
    "data.head()"
   ]
  },
  {
   "cell_type": "code",
   "execution_count": null,
   "id": "1f34aba6",
   "metadata": {},
   "outputs": [],
   "source": [
    "(79.422501 - 77.237503)/77.237503"
   ]
  },
  {
   "cell_type": "code",
   "execution_count": null,
   "id": "e20a9cc0",
   "metadata": {},
   "outputs": [],
   "source": [
    "import numpy as np"
   ]
  },
  {
   "cell_type": "code",
   "execution_count": null,
   "id": "6adc3f73",
   "metadata": {},
   "outputs": [],
   "source": [
    "data['Log returns'] = np.log(data['Close']/data['Close'].shift())"
   ]
  },
  {
   "cell_type": "code",
   "execution_count": null,
   "id": "fa97c2b8",
   "metadata": {},
   "outputs": [],
   "source": [
    "data.head()"
   ]
  },
  {
   "cell_type": "code",
   "execution_count": null,
   "id": "5b9dbb05",
   "metadata": {},
   "outputs": [],
   "source": [
    "data['Log returns'].std()"
   ]
  },
  {
   "cell_type": "code",
   "execution_count": null,
   "id": "98dc3000",
   "metadata": {},
   "outputs": [],
   "source": [
    "volatility = data['Log returns'].std()*252**.5"
   ]
  },
  {
   "cell_type": "code",
   "execution_count": null,
   "id": "6e280865",
   "metadata": {},
   "outputs": [],
   "source": [
    "volatility"
   ]
  },
  {
   "cell_type": "code",
   "execution_count": null,
   "id": "57f6e25e",
   "metadata": {},
   "outputs": [],
   "source": [
    "str_vol = str(round(volatility, 4)*100)"
   ]
  },
  {
   "cell_type": "code",
   "execution_count": null,
   "id": "698afe9e",
   "metadata": {},
   "outputs": [],
   "source": [
    "str_vol"
   ]
  },
  {
   "cell_type": "code",
   "execution_count": null,
   "id": "a6221b8e",
   "metadata": {},
   "outputs": [],
   "source": [
    "fig, ax = plt.subplots()\n",
    "data['Log returns'].hist(ax=ax, bins=50, alpha=0.6, color='b')\n",
    "ax.set_xlabel(\"Log return\")\n",
    "ax.set_ylabel(\"Freq of log return\")\n",
    "ax.set_title(\"AAPL volatility: \" + str_vol + \"%\")"
   ]
  },
  {
   "cell_type": "code",
   "execution_count": null,
   "id": "af459f9f",
   "metadata": {},
   "outputs": [],
   "source": [
    "data.head()"
   ]
  },
  {
   "cell_type": "code",
   "execution_count": null,
   "id": "86a36a1f",
   "metadata": {},
   "outputs": [],
   "source": [
    "data['MA10'] = data['Close'].rolling(10).mean()"
   ]
  },
  {
   "cell_type": "code",
   "execution_count": null,
   "id": "3c28ddb0",
   "metadata": {},
   "outputs": [],
   "source": [
    "data.tail()"
   ]
  },
  {
   "cell_type": "code",
   "execution_count": null,
   "id": "e61943e8",
   "metadata": {},
   "outputs": [],
   "source": [
    "data['EMA10'] = data['Close'].ewm(span=10, adjust=False).mean()"
   ]
  },
  {
   "cell_type": "code",
   "execution_count": null,
   "id": "c0344a60",
   "metadata": {},
   "outputs": [],
   "source": [
    "data.tail()"
   ]
  },
  {
   "cell_type": "code",
   "execution_count": null,
   "id": "1273a75d",
   "metadata": {},
   "outputs": [],
   "source": [
    "fig, ax = plt.subplots()\n",
    "data[['MA10', 'EMA10']].loc['2020-12-01':].plot(ax=ax)\n",
    "data['Close'].loc['2020-12-01':].plot(ax=ax, alpha=0.25)"
   ]
  },
  {
   "cell_type": "code",
   "execution_count": null,
   "id": "a37e0469",
   "metadata": {},
   "outputs": [],
   "source": []
  }
 ],
 "metadata": {
  "language_info": {
   "name": "python"
  }
 },
 "nbformat": 4,
 "nbformat_minor": 5
}
