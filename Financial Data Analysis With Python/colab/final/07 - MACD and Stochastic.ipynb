{
 "cells": [
  {
   "cell_type": "markdown",
   "id": "b7e026a8",
   "metadata": {},
   "source": [
    "<a \n",
    " href=\"https://colab.research.google.com/github/LearnPythonWithRune/FinancialDataAnalysisWithPython/blob/main/colab/final/07 - MACD and Stochastic.ipynb\"\n",
    " target=\"_parent\">\n",
    "<img \n",
    " src=\"https://colab.research.google.com/assets/colab-badge.svg\"\n",
    "alt=\"Open In Colab\"/>\n",
    "</a>"
   ]
  },
  {
   "cell_type": "code",
   "execution_count": null,
   "id": "f00dd0c0",
   "metadata": {},
   "outputs": [],
   "source": [
    "import pandas as pd\n",
    "import matplotlib.pyplot as plt\n",
    "%matplotlib notebook"
   ]
  },
  {
   "cell_type": "code",
   "execution_count": null,
   "id": "f0abe3f4",
   "metadata": {},
   "outputs": [],
   "source": [
    "remote_file = \"https://raw.githubusercontent.com/LearnPythonWithRune/FinancialDataAnalysisWithPython/main/files/AAPL.csv\"\n",
    "data = pd.read_csv(remote_file, index_col=0, parse_dates=True)"
   ]
  },
  {
   "cell_type": "code",
   "execution_count": null,
   "id": "56675af0",
   "metadata": {},
   "outputs": [],
   "source": [
    "data.head()"
   ]
  },
  {
   "cell_type": "markdown",
   "id": "076d267c",
   "metadata": {},
   "source": [
    "### MACD\n",
    "- MACD is a lagging indicator when trading on the crossovers\n",
    "- https://www.investopedia.com/terms/m/macd.asp\n",
    "\n",
    "**Calculation** (12-26-9 MACD (default))\n",
    "- MACD=12-Period EMA − 26-Period EMA\n",
    "- Singal line 9-Perioed EMA of MACD"
   ]
  },
  {
   "cell_type": "code",
   "execution_count": null,
   "id": "e0ce4482",
   "metadata": {},
   "outputs": [],
   "source": [
    "exp1 = data['Close'].ewm(span=12, adjust=False).mean()\n",
    "exp2 = data['Close'].ewm(span=26, adjust=False).mean()\n",
    "data['MACD'] = exp1 - exp2\n",
    "data['Signal line'] = data['MACD'].ewm(span=9, adjust=False).mean()"
   ]
  },
  {
   "cell_type": "code",
   "execution_count": null,
   "id": "9ef4ccd2",
   "metadata": {},
   "outputs": [],
   "source": [
    "data.tail()"
   ]
  },
  {
   "cell_type": "code",
   "execution_count": null,
   "id": "da047e05",
   "metadata": {},
   "outputs": [],
   "source": [
    "fig, ax = plt.subplots()\n",
    "data[['MACD', 'Signal line']].plot(ax=ax)\n",
    "data['Close'].plot(ax=ax, alpha=0.25, secondary_y=True)"
   ]
  },
  {
   "cell_type": "markdown",
   "id": "4843b89d",
   "metadata": {},
   "source": [
    "### Stochastic oscillator\n",
    "- Lagging indicator\n",
    "- https://www.investopedia.com/terms/s/stochasticoscillator.asp\n",
    "\n",
    "**Calculations**\n",
    "- 14-high: Maximum of last 14 trading days\n",
    "- 14-low: Minimum of last 14 trading days\n",
    "- %K: (Last close - 14-low)*100 / (14-high - 14-low)\n",
    "- %D: Simple Moving Average of %K"
   ]
  },
  {
   "cell_type": "code",
   "execution_count": null,
   "id": "00999022",
   "metadata": {},
   "outputs": [],
   "source": [
    "high14 = data['High'].rolling(14).max()\n",
    "low14 = data['Low'].rolling(14).min()\n",
    "data['%K'] = (data['Close'] - low14)*100/(high14 - low14)\n",
    "data['%D'] = data['%K'].rolling(3).mean()"
   ]
  },
  {
   "cell_type": "code",
   "execution_count": null,
   "id": "77756023",
   "metadata": {},
   "outputs": [],
   "source": [
    "data.tail()"
   ]
  },
  {
   "cell_type": "code",
   "execution_count": null,
   "id": "203053c6",
   "metadata": {},
   "outputs": [],
   "source": [
    "fig, ax = plt.subplots()\n",
    "data[['%K', '%D']].loc['2020-11-01':].plot(ax=ax)\n",
    "ax.axhline(80, c='r', alpha=0.3)\n",
    "ax.axhline(20, c='r', alpha=0.3)\n",
    "data['Close'].loc['2020-11-01':].plot(ax=ax, alpha=0.3, secondary_y=True)"
   ]
  },
  {
   "cell_type": "code",
   "execution_count": null,
   "id": "cbac77cf",
   "metadata": {},
   "outputs": [],
   "source": []
  }
 ],
 "metadata": {
  "language_info": {
   "name": "python"
  }
 },
 "nbformat": 4,
 "nbformat_minor": 5
}
