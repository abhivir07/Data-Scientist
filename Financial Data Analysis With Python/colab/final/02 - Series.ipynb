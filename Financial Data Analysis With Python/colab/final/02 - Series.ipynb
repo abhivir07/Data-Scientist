{
 "cells": [
  {
   "cell_type": "markdown",
   "id": "898fcb6f",
   "metadata": {},
   "source": [
    "<a \n",
    " href=\"https://colab.research.google.com/github/LearnPythonWithRune/FinancialDataAnalysisWithPython/blob/main/colab/final/02 - Series.ipynb\"\n",
    " target=\"_parent\">\n",
    "<img \n",
    " src=\"https://colab.research.google.com/assets/colab-badge.svg\"\n",
    "alt=\"Open In Colab\"/>\n",
    "</a>"
   ]
  },
  {
   "cell_type": "markdown",
   "id": "704201f8",
   "metadata": {},
   "source": [
    "# Series\n",
    "- Use **type** to get data type\n",
    "- Each column is a Series\n",
    "- Series show data type (dtype)\n",
    "- Calculate with Series\n",
    "    - Daily change\n",
    "    - Daily percentage change\n",
    "    - Normalize data\n",
    "- Similar to Excel\n",
    "- Indexing with Series"
   ]
  },
  {
   "cell_type": "code",
   "execution_count": null,
   "id": "f44bb2f0",
   "metadata": {},
   "outputs": [],
   "source": [
    "import pandas as pd"
   ]
  },
  {
   "cell_type": "code",
   "execution_count": null,
   "id": "12276a8b",
   "metadata": {},
   "outputs": [],
   "source": [
    "remote_file = \"https://raw.githubusercontent.com/LearnPythonWithRune/FinancialDataAnalysisWithPython/main/files/AAPL.csv\"\n",
    "data = pd.read_csv(remote_file, index_col=0, parse_dates=True)"
   ]
  },
  {
   "cell_type": "code",
   "execution_count": null,
   "id": "ab0826dc",
   "metadata": {
    "scrolled": true
   },
   "outputs": [],
   "source": [
    "data.head()"
   ]
  },
  {
   "cell_type": "code",
   "execution_count": null,
   "id": "9972a4de",
   "metadata": {},
   "outputs": [],
   "source": [
    "data.dtypes"
   ]
  },
  {
   "cell_type": "code",
   "execution_count": null,
   "id": "43f0d4b0",
   "metadata": {},
   "outputs": [],
   "source": [
    "type(data)"
   ]
  },
  {
   "cell_type": "code",
   "execution_count": null,
   "id": "de7c3beb",
   "metadata": {},
   "outputs": [],
   "source": [
    "data['Close']"
   ]
  },
  {
   "cell_type": "code",
   "execution_count": null,
   "id": "a6fa7a52",
   "metadata": {},
   "outputs": [],
   "source": [
    "type(data['Close'])"
   ]
  },
  {
   "cell_type": "code",
   "execution_count": null,
   "id": "e0fe24d9",
   "metadata": {},
   "outputs": [],
   "source": [
    "daily_chg = data['Open'] - data['Close']"
   ]
  },
  {
   "cell_type": "code",
   "execution_count": null,
   "id": "53302672",
   "metadata": {},
   "outputs": [],
   "source": [
    "data.head()"
   ]
  },
  {
   "cell_type": "code",
   "execution_count": null,
   "id": "c54fdcce",
   "metadata": {},
   "outputs": [],
   "source": [
    "daily_chg"
   ]
  },
  {
   "cell_type": "code",
   "execution_count": null,
   "id": "09361e33",
   "metadata": {},
   "outputs": [],
   "source": [
    "type(daily_chg)"
   ]
  },
  {
   "cell_type": "code",
   "execution_count": null,
   "id": "cee050f0",
   "metadata": {},
   "outputs": [],
   "source": [
    "daily_pct_chg = (data['Close'] - data['Open'])/data['Open']*100"
   ]
  },
  {
   "cell_type": "code",
   "execution_count": null,
   "id": "5810d4bd",
   "metadata": {},
   "outputs": [],
   "source": [
    "daily_pct_chg"
   ]
  },
  {
   "cell_type": "code",
   "execution_count": null,
   "id": "7922a5c4",
   "metadata": {},
   "outputs": [],
   "source": [
    "data['Close'].iloc[0]"
   ]
  },
  {
   "cell_type": "code",
   "execution_count": null,
   "id": "e981de43",
   "metadata": {},
   "outputs": [],
   "source": [
    "data['Close'].iloc[-1]"
   ]
  },
  {
   "cell_type": "code",
   "execution_count": null,
   "id": "882def4a",
   "metadata": {},
   "outputs": [],
   "source": [
    "norm = data['Close']/data['Close'].iloc[0]"
   ]
  },
  {
   "cell_type": "code",
   "execution_count": null,
   "id": "617f3a04",
   "metadata": {},
   "outputs": [],
   "source": [
    "norm"
   ]
  },
  {
   "cell_type": "code",
   "execution_count": null,
   "id": "8650f02e",
   "metadata": {},
   "outputs": [],
   "source": [
    "data['Close'].iloc[0]*norm.iloc[-1]"
   ]
  },
  {
   "cell_type": "code",
   "execution_count": null,
   "id": "02d9c8da",
   "metadata": {},
   "outputs": [],
   "source": [
    "data['Close'].iloc[-1]"
   ]
  },
  {
   "cell_type": "code",
   "execution_count": null,
   "id": "52bee4b5",
   "metadata": {},
   "outputs": [],
   "source": []
  }
 ],
 "metadata": {
  "language_info": {
   "name": "python"
  }
 },
 "nbformat": 4,
 "nbformat_minor": 5
}
